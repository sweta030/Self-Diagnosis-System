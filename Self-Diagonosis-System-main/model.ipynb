{
 "cells": [
  {
   "cell_type": "code",
   "execution_count": 1,
   "metadata": {},
   "outputs": [],
   "source": [
    "import numpy as np \n",
    "import pandas as pd\n",
    "import matplotlib.pyplot as plt\n",
    "import tensorflow as tf"
   ]
  },
  {
   "cell_type": "code",
   "execution_count": 1,
   "metadata": {},
   "outputs": [],
   "source": [
    "import numpy as np\n",
    "import pandas as pd"
   ]
  },
  {
   "cell_type": "code",
   "execution_count": 4,
   "metadata": {},
   "outputs": [
    {
     "name": "stdout",
     "output_type": "stream",
     "text": [
      "itchingskin_rashnodal_skin_eruptionscontinuous_sneezingshiveringchillsjoint_painstomach_painacidityulcers_on_tonguemuscle_wastingvomitingburning_micturitionspotting_ urinationfatigueweight_gainanxietycold_hands_and_feetsmood_swingsweight_lossrestlessnesslethargypatches_in_throatirregular_sugar_levelcoughhigh_feversunken_eyesbreathlessnesssweatingdehydrationindigestionheadacheyellowish_skindark_urinenausealoss_of_appetitepain_behind_the_eyesback_painconstipationabdominal_paindiarrhoeamild_feveryellow_urineyellowing_of_eyesacute_liver_failurefluid_overloadswelling_of_stomachswelled_lymph_nodesmalaiseblurred_and_distorted_visionphlegmthroat_irritationredness_of_eyessinus_pressurerunny_nosecongestionchest_painweakness_in_limbsfast_heart_ratepain_during_bowel_movementspain_in_anal_regionbloody_stoolirritation_in_anusneck_paindizzinesscrampsbruisingobesityswollen_legsswollen_blood_vesselspuffy_face_and_eyesenlarged_thyroidbrittle_nailsswollen_extremetiesexcessive_hungerextra_marital_contactsdrying_and_tingling_lipsslurred_speechknee_painhip_joint_painmuscle_weaknessstiff_neckswelling_jointsmovement_stiffnessspinning_movementsloss_of_balanceunsteadinessweakness_of_one_body_sideloss_of_smellbladder_discomfortfoul_smell_of urinecontinuous_feel_of_urinepassage_of_gasesinternal_itchingtoxic_look_(typhos)depressionirritabilitymuscle_painaltered_sensoriumred_spots_over_bodybelly_painabnormal_menstruationdischromic _patcheswatering_from_eyesincreased_appetitepolyuriafamily_historymucoid_sputumrusty_sputumlack_of_concentrationvisual_disturbancesreceiving_blood_transfusionreceiving_unsterile_injectionscomastomach_bleedingdistention_of_abdomenhistory_of_alcohol_consumptionfluid_overload.1blood_in_sputumprominent_veins_on_calfpalpitationspainful_walkingpus_filled_pimplesblackheadsscurringskin_peelingsilver_like_dustingsmall_dents_in_nailsinflammatory_nailsblisterred_sore_around_noseyellow_crust_ooze\n"
     ]
    }
   ],
   "source": [
    "main_df=pd.read_csv('D:\\Directrix2\\Training.csv')\n",
    "lst1=main_df.columns\n",
    "lst1=list(lst1[:-2])"
   ]
  },
  {
   "attachments": {},
   "cell_type": "markdown",
   "metadata": {},
   "source": [
    "        DISEASE PREDICTION MODEL"
   ]
  },
  {
   "cell_type": "code",
   "execution_count": 13,
   "metadata": {},
   "outputs": [
    {
     "name": "stdout",
     "output_type": "stream",
     "text": [
      "Epoch 1/10\n",
      "154/154 - 6s - loss: 0.3029 - accuracy: 0.9624 - 6s/epoch - 41ms/step\n",
      "Epoch 2/10\n",
      "154/154 - 4s - loss: 3.0192e-04 - accuracy: 1.0000 - 4s/epoch - 25ms/step\n",
      "Epoch 3/10\n",
      "154/154 - 4s - loss: 1.6045e-04 - accuracy: 1.0000 - 4s/epoch - 27ms/step\n",
      "Epoch 4/10\n",
      "154/154 - 4s - loss: 1.0528e-04 - accuracy: 1.0000 - 4s/epoch - 25ms/step\n",
      "Epoch 5/10\n",
      "154/154 - 4s - loss: 7.4085e-05 - accuracy: 1.0000 - 4s/epoch - 26ms/step\n",
      "Epoch 6/10\n",
      "154/154 - 3s - loss: 5.4943e-05 - accuracy: 1.0000 - 3s/epoch - 22ms/step\n",
      "Epoch 7/10\n",
      "154/154 - 3s - loss: 4.1365e-05 - accuracy: 1.0000 - 3s/epoch - 22ms/step\n",
      "Epoch 8/10\n",
      "154/154 - 4s - loss: 3.2646e-05 - accuracy: 1.0000 - 4s/epoch - 23ms/step\n",
      "Epoch 9/10\n",
      "154/154 - 3s - loss: 2.6429e-05 - accuracy: 1.0000 - 3s/epoch - 22ms/step\n",
      "Epoch 10/10\n",
      "154/154 - 3s - loss: 2.1677e-05 - accuracy: 1.0000 - 3s/epoch - 21ms/step\n"
     ]
    }
   ],
   "source": [
    "disease={'Fungal infection':0,'Allergy':1,'GERD':2,'Chronic cholestasis':3,'Drug Reaction':4,\n",
    "    'Peptic ulcer diseae':5,'AIDS':6,'Diabetes ':7,'Gastroenteritis':8,'Bronchial Asthma':9,'Hypertension ':10,\n",
    "    'Migraine':11,'Cervical spondylosis':12,\n",
    "    'Paralysis (brain hemorrhage)':13,'Jaundice':14,'Malaria':15,'Chicken pox':16,'Dengue':17,'Typhoid':18,'hepatitis A':19,\n",
    "    'Hepatitis B':20,'Hepatitis C':21,'Hepatitis D':22,'Hepatitis E':23,'Alcoholic hepatitis':24,'Tuberculosis':25,\n",
    "    'Common Cold':26,'Pneumonia':27,'Dimorphic hemmorhoids(piles)':28,'Heart attack':29,'Varicose veins':30,'Hypothyroidism':31,\n",
    "    'Hyperthyroidism':32,'Hypoglycemia':33,'Osteoarthristis':34,'Arthritis':35,\n",
    "    '(vertigo) Paroymsal  Positional Vertigo':36,'Acne':37,'Urinary tract infection':38,'Psoriasis':39,\n",
    "    'Impetigo':40}\n",
    "\n",
    "main_df=pd.read_csv('D:\\Directrix2\\Training.csv')\n",
    "lst1=main_df.columns\n",
    "lst1=list(lst1[:-2])\n",
    "\n",
    "temp=main_df\n",
    "temp.replace({'prognosis':disease},inplace=True)\n",
    "y=temp['prognosis']\n",
    "\n",
    "X_train=tf.convert_to_tensor(main_df[lst1].values)\n",
    "Y_train=tf.convert_to_tensor(y.values)\n",
    "\n",
    "#       MODEL\n",
    "model=tf.keras.models.Sequential([\n",
    "    tf.keras.layers.Dense(1024,activation='leaky_relu'),\n",
    "    tf.keras.layers.Dense(512,activation='leaky_relu'),\n",
    "    tf.keras.layers.Dense(256,activation='leaky_relu'),\n",
    "    tf.keras.layers.Dense(41,activation='softmax')\n",
    "])\n",
    "\n",
    "model.compile(\n",
    "    loss=tf.keras.losses.SparseCategoricalCrossentropy(from_logits=False),\n",
    "    optimizer=tf.keras.optimizers.Adam(learning_rate=0.001),\n",
    "    metrics=['accuracy']\n",
    ")\n",
    "\n",
    "history=model.fit(\n",
    "    x=X_train,\n",
    "    y=Y_train,\n",
    "    epochs=10,\n",
    "    verbose=2\n",
    ")"
   ]
  },
  {
   "cell_type": "code",
   "execution_count": 14,
   "metadata": {},
   "outputs": [
    {
     "data": {
      "text/plain": [
       "[[1.0,\n",
       "  1.0,\n",
       "  2.0,\n",
       "  0.0,\n",
       "  0.0,\n",
       "  0.0,\n",
       "  0.0,\n",
       "  0.0,\n",
       "  0.0,\n",
       "  0.0,\n",
       "  0.0,\n",
       "  0.0,\n",
       "  0.0,\n",
       "  0.0,\n",
       "  0.0,\n",
       "  0.0,\n",
       "  0.0,\n",
       "  0.0,\n",
       "  0.0,\n",
       "  0.0,\n",
       "  0.0,\n",
       "  0.0,\n",
       "  0.0,\n",
       "  0.0,\n",
       "  0.0,\n",
       "  0.0,\n",
       "  0.0,\n",
       "  0.0,\n",
       "  0.0,\n",
       "  0.0,\n",
       "  0.0,\n",
       "  0.0,\n",
       "  0.0,\n",
       "  0.0,\n",
       "  0.0,\n",
       "  0.0,\n",
       "  0.0,\n",
       "  0.0,\n",
       "  0.0,\n",
       "  0.0,\n",
       "  0.0,\n",
       "  0.0,\n",
       "  0.0,\n",
       "  0.0,\n",
       "  0.0,\n",
       "  0.0,\n",
       "  0.0,\n",
       "  0.0,\n",
       "  0.0,\n",
       "  0.0,\n",
       "  0.0,\n",
       "  0.0,\n",
       "  0.0,\n",
       "  0.0,\n",
       "  0.0,\n",
       "  0.0,\n",
       "  0.0,\n",
       "  0.0,\n",
       "  0.0,\n",
       "  0.0,\n",
       "  0.0,\n",
       "  0.0,\n",
       "  0.0,\n",
       "  0.0,\n",
       "  0.0,\n",
       "  0.0,\n",
       "  0.0,\n",
       "  0.0,\n",
       "  0.0,\n",
       "  0.0,\n",
       "  0.0,\n",
       "  0.0,\n",
       "  0.0,\n",
       "  0.0,\n",
       "  0.0,\n",
       "  0.0,\n",
       "  0.0,\n",
       "  0.0,\n",
       "  0.0,\n",
       "  0.0,\n",
       "  0.0,\n",
       "  0.0,\n",
       "  0.0,\n",
       "  0.0,\n",
       "  0.0,\n",
       "  0.0,\n",
       "  0.0,\n",
       "  0.0,\n",
       "  0.0,\n",
       "  0.0,\n",
       "  0.0,\n",
       "  0.0,\n",
       "  0.0,\n",
       "  0.0,\n",
       "  0.0,\n",
       "  0.0,\n",
       "  0.0,\n",
       "  0.0,\n",
       "  0.0,\n",
       "  0.0,\n",
       "  0.0,\n",
       "  0.0,\n",
       "  0.0,\n",
       "  0.0,\n",
       "  0.0,\n",
       "  0.0,\n",
       "  0.0,\n",
       "  0.0,\n",
       "  0.0,\n",
       "  0.0,\n",
       "  0.0,\n",
       "  0.0,\n",
       "  0.0,\n",
       "  0.0,\n",
       "  0.0,\n",
       "  0.0,\n",
       "  0.0,\n",
       "  0.0,\n",
       "  0.0,\n",
       "  0.0,\n",
       "  0.0,\n",
       "  0.0,\n",
       "  0.0,\n",
       "  0.0,\n",
       "  0.0,\n",
       "  0.0,\n",
       "  0.0,\n",
       "  0.0,\n",
       "  0.0,\n",
       "  0.0,\n",
       "  0.0,\n",
       "  0.0]]"
      ]
     },
     "execution_count": 14,
     "metadata": {},
     "output_type": "execute_result"
    }
   ],
   "source": [
    "lst2=np.zeros((1,132),dtype=float)\n",
    "lst2[0][1]=lst2[0][0]=1.\n",
    "lst2[0][2]=2.\n",
    "lst3=lst2.tolist()\n",
    "lst3\n"
   ]
  },
  {
   "cell_type": "code",
   "execution_count": 15,
   "metadata": {},
   "outputs": [
    {
     "name": "stdout",
     "output_type": "stream",
     "text": [
      "1/1 [==============================] - 0s 148ms/step\n"
     ]
    }
   ],
   "source": [
    "pred=model.predict(tf.convert_to_tensor(lst2))\n",
    "pred=np.round(pred[0])"
   ]
  },
  {
   "cell_type": "code",
   "execution_count": 16,
   "metadata": {},
   "outputs": [
    {
     "data": {
      "text/plain": [
       "'Fungal infection'"
      ]
     },
     "execution_count": 16,
     "metadata": {},
     "output_type": "execute_result"
    }
   ],
   "source": [
    "lst=list(np.round(pred))\n",
    "key_lst=list(disease.keys())\n",
    "key_lst[lst.index(1.)]"
   ]
  },
  {
   "cell_type": "code",
   "execution_count": 23,
   "metadata": {},
   "outputs": [],
   "source": [
    "main_df2=pd.read_csv(\"D:/Directrix2/symptom_precaution.csv\")\n",
    "X='Fungal infection'\n",
    "for i in range(len(list(main_df2['Disease']))):\n",
    "    if main_df2['Disease'][i]==X:\n",
    "        Y=main_df2['Precaution_1'][i]"
   ]
  },
  {
   "cell_type": "code",
   "execution_count": 7,
   "metadata": {},
   "outputs": [],
   "source": [
    "import json\n",
    "\n",
    "with open(\"params.json\") as f:\n",
    "    data=json.load(f)\n",
    "\n",
    "data['name']=\"India\"\n",
    "with open(\"params.json\",'w') as f:\n",
    "    json.dump(data,f)"
   ]
  }
 ],
 "metadata": {
  "kernelspec": {
   "display_name": "Python 3",
   "language": "python",
   "name": "python3"
  },
  "language_info": {
   "codemirror_mode": {
    "name": "ipython",
    "version": 3
   },
   "file_extension": ".py",
   "mimetype": "text/x-python",
   "name": "python",
   "nbconvert_exporter": "python",
   "pygments_lexer": "ipython3",
   "version": "3.10.0"
  },
  "orig_nbformat": 4,
  "vscode": {
   "interpreter": {
    "hash": "26de051ba29f2982a8de78e945f0abaf191376122a1563185a90213a26c5da77"
   }
  }
 },
 "nbformat": 4,
 "nbformat_minor": 2
}
